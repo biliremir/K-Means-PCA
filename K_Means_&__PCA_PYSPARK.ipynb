{
  "nbformat": 4,
  "nbformat_minor": 0,
  "metadata": {
    "colab": {
      "provenance": []
    },
    "kernelspec": {
      "name": "python3",
      "display_name": "Python 3"
    },
    "language_info": {
      "name": "python"
    }
  },
  "cells": [
    {
      "cell_type": "code",
      "execution_count": null,
      "metadata": {
        "colab": {
          "base_uri": "https://localhost:8080/"
        },
        "id": "HNyL092qcGvO",
        "outputId": "938240f0-0080-4ad8-d74e-6431e2785944"
      },
      "outputs": [
        {
          "output_type": "stream",
          "name": "stdout",
          "text": [
            "Collecting pyspark\n",
            "  Downloading pyspark-3.4.1.tar.gz (310.8 MB)\n",
            "\u001b[2K     \u001b[90m━━━━━━━━━━━━━━━━━━━━━━━━━━━━━━━━━━━━━━━\u001b[0m \u001b[32m310.8/310.8 MB\u001b[0m \u001b[31m4.8 MB/s\u001b[0m eta \u001b[36m0:00:00\u001b[0m\n",
            "\u001b[?25h  Preparing metadata (setup.py) ... \u001b[?25l\u001b[?25hdone\n",
            "Requirement already satisfied: py4j==0.10.9.7 in /usr/local/lib/python3.10/dist-packages (from pyspark) (0.10.9.7)\n",
            "Building wheels for collected packages: pyspark\n",
            "  Building wheel for pyspark (setup.py) ... \u001b[?25l\u001b[?25hdone\n",
            "  Created wheel for pyspark: filename=pyspark-3.4.1-py2.py3-none-any.whl size=311285398 sha256=6c6469be44156815d7e7efc895087f95ac919c8422638a01fd39c9809442acd6\n",
            "  Stored in directory: /root/.cache/pip/wheels/0d/77/a3/ff2f74cc9ab41f8f594dabf0579c2a7c6de920d584206e0834\n",
            "Successfully built pyspark\n",
            "Installing collected packages: pyspark\n",
            "Successfully installed pyspark-3.4.1\n"
          ]
        }
      ],
      "source": [
        "!pip install pyspark"
      ]
    },
    {
      "cell_type": "code",
      "source": [
        "from pyspark.sql import SparkSession\n",
        "spark=SparkSession.builder.appName('K_means').getOrCreate()\n",
        "df=spark.read.csv('Country-data.csv',inferSchema=True,header=True)\n",
        "print((df.count(), len(df.columns)))\n",
        "df.printSchema()\n"
      ],
      "metadata": {
        "colab": {
          "base_uri": "https://localhost:8080/"
        },
        "id": "S99cd7y1cKcp",
        "outputId": "8cc73e1b-dfcc-44a8-9c8a-ccc5c306f3ea"
      },
      "execution_count": null,
      "outputs": [
        {
          "output_type": "stream",
          "name": "stdout",
          "text": [
            "(167, 10)\n",
            "root\n",
            " |-- country: string (nullable = true)\n",
            " |-- child_mort: double (nullable = true)\n",
            " |-- exports: double (nullable = true)\n",
            " |-- health: double (nullable = true)\n",
            " |-- imports: double (nullable = true)\n",
            " |-- income: integer (nullable = true)\n",
            " |-- inflation: double (nullable = true)\n",
            " |-- life_expec: double (nullable = true)\n",
            " |-- total_fer: double (nullable = true)\n",
            " |-- gdpp: integer (nullable = true)\n",
            "\n"
          ]
        }
      ]
    },
    {
      "cell_type": "code",
      "source": [
        "from pyspark.sql.functions import rand\n",
        "df.orderBy(rand()).show(10,False)\n"
      ],
      "metadata": {
        "colab": {
          "base_uri": "https://localhost:8080/"
        },
        "id": "rBlYCQDtcaqh",
        "outputId": "0dc2056c-6f33-4f13-fe72-034b334bee41"
      },
      "execution_count": null,
      "outputs": [
        {
          "output_type": "stream",
          "name": "stdout",
          "text": [
            "+--------------+----------+-------+------+-------+------+---------+----------+---------+-----+\n",
            "|country       |child_mort|exports|health|imports|income|inflation|life_expec|total_fer|gdpp |\n",
            "+--------------+----------+-------+------+-------+------+---------+----------+---------+-----+\n",
            "|Vietnam       |23.3      |72.0   |6.84  |80.2   |4490  |12.1     |73.1      |1.95     |1310 |\n",
            "|Guinea-Bissau |114.0     |14.9   |8.5   |35.2   |1390  |2.97     |55.6      |5.05     |547  |\n",
            "|Bolivia       |46.6      |41.2   |4.84  |34.3   |5410  |8.78     |71.6      |3.2      |1980 |\n",
            "|Spain         |3.8       |25.5   |9.54  |26.8   |32500 |0.16     |81.9      |1.37     |30700|\n",
            "|Uganda        |81.0      |17.1   |9.01  |28.6   |1540  |10.6     |56.8      |6.15     |595  |\n",
            "|Morocco       |33.5      |32.2   |5.2   |43.0   |6440  |0.976    |73.5      |2.58     |2830 |\n",
            "|Angola        |119.0     |62.3   |2.85  |42.9   |5900  |22.4     |60.1      |6.16     |3530 |\n",
            "|Czech Republic|3.4       |66.0   |7.88  |62.9   |28300 |-1.43    |77.5      |1.51     |19800|\n",
            "|Guinea        |109.0     |30.3   |4.93  |43.2   |1190  |16.1     |58.0      |5.34     |648  |\n",
            "|Belgium       |4.5       |76.4   |10.7  |74.7   |41100 |1.88     |80.0      |1.86     |44400|\n",
            "+--------------+----------+-------+------+-------+------+---------+----------+---------+-----+\n",
            "only showing top 10 rows\n",
            "\n"
          ]
        }
      ]
    },
    {
      "cell_type": "code",
      "source": [
        "from pyspark.ml.linalg import Vector\n",
        "from pyspark.ml.feature import VectorAssembler\n",
        "df_cols=df.drop(\"country\")\n",
        "input_cols=df_cols.columns\n",
        "vec_assembler = VectorAssembler(inputCols = input_cols,\n",
        "outputCol='features')\n",
        "final_data = vec_assembler.transform(df)"
      ],
      "metadata": {
        "id": "ct3Wdobacsz1"
      },
      "execution_count": null,
      "outputs": []
    },
    {
      "cell_type": "code",
      "source": [
        "errors=[]\n",
        "for k in range(2,20):\n",
        "    kmeans = KMeans(featuresCol='features',k=k,distanceMeasure='cosine')\n",
        "    model = kmeans.fit(final_data)\n",
        "    predictions = model.transform(final_data)\n",
        "    training_cost = model.summary.trainingCost\n",
        "    print(training_cost)\n",
        "    errors.append(training_cost)\n",
        "\n",
        "print(errors)"
      ],
      "metadata": {
        "colab": {
          "base_uri": "https://localhost:8080/"
        },
        "id": "JILbuq5YdaHE",
        "outputId": "87fabb2c-50f8-4201-bd4b-0f9a0a697be0"
      },
      "execution_count": null,
      "outputs": [
        {
          "output_type": "stream",
          "name": "stdout",
          "text": [
            "0.8218728365257997\n",
            "0.42677956087009616\n",
            "0.33339833342375313\n",
            "0.27174315821858996\n",
            "0.23298218190003772\n",
            "0.20360472800034546\n",
            "0.1377402191891377\n",
            "0.12494591209390193\n",
            "0.11780174915879127\n",
            "0.11397693193064085\n",
            "0.0945383294789004\n",
            "0.08755727150350934\n",
            "0.08452253603567383\n",
            "0.09555082684207439\n",
            "0.09304266438421305\n",
            "0.08838132685878353\n",
            "0.07742745165851483\n",
            "0.07902795789843398\n",
            "[0.8218728365257997, 0.42677956087009616, 0.33339833342375313, 0.27174315821858996, 0.23298218190003772, 0.20360472800034546, 0.1377402191891377, 0.12494591209390193, 0.11780174915879127, 0.11397693193064085, 0.0945383294789004, 0.08755727150350934, 0.08452253603567383, 0.09555082684207439, 0.09304266438421305, 0.08838132685878353, 0.07742745165851483, 0.07902795789843398]\n"
          ]
        }
      ]
    },
    {
      "cell_type": "code",
      "source": [
        "import pandas as pd\n",
        "import numpy as np\n",
        "import matplotlib.pyplot as plt\n",
        "cluster_number = range(2,20)\n",
        "plt.xlabel('Number of Clusters (K)')\n",
        "plt.ylabel('SSE')\n",
        "plt.scatter(cluster_number,errors)\n",
        "plt.show()"
      ],
      "metadata": {
        "colab": {
          "base_uri": "https://localhost:8080/",
          "height": 449
        },
        "id": "gA-3pvIPdf3h",
        "outputId": "13b3af54-7ac7-4e78-b3af-55180779a26d"
      },
      "execution_count": null,
      "outputs": [
        {
          "output_type": "display_data",
          "data": {
            "text/plain": [
              "<Figure size 640x480 with 1 Axes>"
            ],
            "image/png": "[encoded data removed]"
          },
          "metadata": {}
        }
      ]
    },
    {
      "cell_type": "code",
      "source": [
        "kmeans = KMeans(featuresCol='features',k=3,distanceMeasure='cosine')\n",
        "model = kmeans.fit(final_data)\n",
        "model.transform(final_data).groupBy('prediction').count().show()"
      ],
      "metadata": {
        "colab": {
          "base_uri": "https://localhost:8080/"
        },
        "id": "uMZdGNFRfDd8",
        "outputId": "095eb90f-24f3-47d6-cefa-742f2b72bf92"
      },
      "execution_count": null,
      "outputs": [
        {
          "output_type": "stream",
          "name": "stdout",
          "text": [
            "+----------+-----+\n",
            "|prediction|count|\n",
            "+----------+-----+\n",
            "|         1|   52|\n",
            "|         2|   33|\n",
            "|         0|   82|\n",
            "+----------+-----+\n",
            "\n"
          ]
        }
      ]
    },
    {
      "cell_type": "code",
      "source": [
        "predictions=model.transform(final_data)"
      ],
      "metadata": {
        "id": "jaWWfCg3feBH"
      },
      "execution_count": null,
      "outputs": []
    },
    {
      "cell_type": "code",
      "source": [
        "pandas_df = predictions.toPandas()\n",
        "pandas_df.head(5)"
      ],
      "metadata": {
        "colab": {
          "base_uri": "https://localhost:8080/",
          "height": 206
        },
        "id": "UlIef90FfL9D",
        "outputId": "ca6303cd-1616-4dc6-e8bf-542e5e435efa"
      },
      "execution_count": null,
      "outputs": [
        {
          "output_type": "execute_result",
          "data": {
            "text/plain": [
              "               country  child_mort  exports  health  imports  income  \\\n",
              "0          Afghanistan        90.2     10.0    7.58     44.9    1610   \n",
              "1              Albania        16.6     28.0    6.55     48.6    9930   \n",
              "2              Algeria        27.3     38.4    4.17     31.4   12900   \n",
              "3               Angola       119.0     62.3    2.85     42.9    5900   \n",
              "4  Antigua and Barbuda        10.3     45.5    6.03     58.9   19100   \n",
              "\n",
              "   inflation  life_expec  total_fer   gdpp  \\\n",
              "0       9.44        56.2       5.82    553   \n",
              "1       4.49        76.3       1.65   4090   \n",
              "2      16.10        76.5       2.89   4460   \n",
              "3      22.40        60.1       6.16   3530   \n",
              "4       1.44        76.8       2.13  12200   \n",
              "\n",
              "                                            features  prediction  \n",
              "0  [90.2, 10.0, 7.58, 44.9, 1610.0, 9.44, 56.2, 5...           0  \n",
              "1  [16.6, 28.0, 6.55, 48.6, 9930.0, 4.49, 76.3, 1...           0  \n",
              "2  [27.3, 38.4, 4.17, 31.4, 12900.0, 16.1, 76.5, ...           0  \n",
              "3  [119.0, 62.3, 2.85, 42.9, 5900.0, 22.4, 60.1, ...           1  \n",
              "4  [10.3, 45.5, 6.03, 58.9, 19100.0, 1.44, 76.8, ...           1  "
            ],
            "text/html": [
              "\n",
              "  <div id=\"df-15948705-e5ea-4a91-8371-12b765b7c3a3\">\n",
              "    <div class=\"colab-df-container\">\n",
              "      <div>\n",
              "<style scoped>\n",
              "    .dataframe tbody tr th:only-of-type {\n",
              "        vertical-align: middle;\n",
              "    }\n",
              "\n",
              "    .dataframe tbody tr th {\n",
              "        vertical-align: top;\n",
              "    }\n",
              "\n",
              "    .dataframe thead th {\n",
              "        text-align: right;\n",
              "    }\n",
              "</style>\n",
              "<table border=\"1\" class=\"dataframe\">\n",
              "  <thead>\n",
              "    <tr style=\"text-align: right;\">\n",
              "      <th></th>\n",
              "      <th>country</th>\n",
              "      <th>child_mort</th>\n",
              "      <th>exports</th>\n",
              "      <th>health</th>\n",
              "      <th>imports</th>\n",
              "      <th>income</th>\n",
              "      <th>inflation</th>\n",
              "      <th>life_expec</th>\n",
              "      <th>total_fer</th>\n",
              "      <th>gdpp</th>\n",
              "      <th>features</th>\n",
              "      <th>prediction</th>\n",
              "    </tr>\n",
              "  </thead>\n",
              "  <tbody>\n",
              "    <tr>\n",
              "      <th>0</th>\n",
              "      <td>Afghanistan</td>\n",
              "      <td>90.2</td>\n",
              "      <td>10.0</td>\n",
              "      <td>7.58</td>\n",
              "      <td>44.9</td>\n",
              "      <td>1610</td>\n",
              "      <td>9.44</td>\n",
              "      <td>56.2</td>\n",
              "      <td>5.82</td>\n",
              "      <td>553</td>\n",
              "      <td>[90.2, 10.0, 7.58, 44.9, 1610.0, 9.44, 56.2, 5...</td>\n",
              "      <td>0</td>\n",
              "    </tr>\n",
              "    <tr>\n",
              "      <th>1</th>\n",
              "      <td>Albania</td>\n",
              "      <td>16.6</td>\n",
              "      <td>28.0</td>\n",
              "      <td>6.55</td>\n",
              "      <td>48.6</td>\n",
              "      <td>9930</td>\n",
              "      <td>4.49</td>\n",
              "      <td>76.3</td>\n",
              "      <td>1.65</td>\n",
              "      <td>4090</td>\n",
              "      <td>[16.6, 28.0, 6.55, 48.6, 9930.0, 4.49, 76.3, 1...</td>\n",
              "      <td>0</td>\n",
              "    </tr>\n",
              "    <tr>\n",
              "      <th>2</th>\n",
              "      <td>Algeria</td>\n",
              "      <td>27.3</td>\n",
              "      <td>38.4</td>\n",
              "      <td>4.17</td>\n",
              "      <td>31.4</td>\n",
              "      <td>12900</td>\n",
              "      <td>16.10</td>\n",
              "      <td>76.5</td>\n",
              "      <td>2.89</td>\n",
              "      <td>4460</td>\n",
              "      <td>[27.3, 38.4, 4.17, 31.4, 12900.0, 16.1, 76.5, ...</td>\n",
              "      <td>0</td>\n",
              "    </tr>\n",
              "    <tr>\n",
              "      <th>3</th>\n",
              "      <td>Angola</td>\n",
              "      <td>119.0</td>\n",
              "      <td>62.3</td>\n",
              "      <td>2.85</td>\n",
              "      <td>42.9</td>\n",
              "      <td>5900</td>\n",
              "      <td>22.40</td>\n",
              "      <td>60.1</td>\n",
              "      <td>6.16</td>\n",
              "      <td>3530</td>\n",
              "      <td>[119.0, 62.3, 2.85, 42.9, 5900.0, 22.4, 60.1, ...</td>\n",
              "      <td>1</td>\n",
              "    </tr>\n",
              "    <tr>\n",
              "      <th>4</th>\n",
              "      <td>Antigua and Barbuda</td>\n",
              "      <td>10.3</td>\n",
              "      <td>45.5</td>\n",
              "      <td>6.03</td>\n",
              "      <td>58.9</td>\n",
              "      <td>19100</td>\n",
              "      <td>1.44</td>\n",
              "      <td>76.8</td>\n",
              "      <td>2.13</td>\n",
              "      <td>12200</td>\n",
              "      <td>[10.3, 45.5, 6.03, 58.9, 19100.0, 1.44, 76.8, ...</td>\n",
              "      <td>1</td>\n",
              "    </tr>\n",
              "  </tbody>\n",
              "</table>\n",
              "</div>\n",
              "      <button class=\"colab-df-convert\" onclick=\"convertToInteractive('df-15948705-e5ea-4a91-8371-12b765b7c3a3')\"\n",
              "              title=\"Convert this dataframe to an interactive table.\"\n",
              "              style=\"display:none;\">\n",
              "        \n",
              "  <svg xmlns=\"http://www.w3.org/2000/svg\" height=\"24px\"viewBox=\"0 0 24 24\"\n",
              "       width=\"24px\">\n",
              "    <path d=\"M0 0h24v24H0V0z\" fill=\"none\"/>\n",
              "    <path d=\"M18.56 5.44l.94 2.06.94-2.06 2.06-.94-2.06-.94-.94-2.06-.94 2.06-2.06.94zm-11 1L8.5 8.5l.94-2.06 2.06-.94-2.06-.94L8.5 2.5l-.94 2.06-2.06.94zm10 10l.94 2.06.94-2.06 2.06-.94-2.06-.94-.94-2.06-.94 2.06-2.06.94z\"/><path d=\"M17.41 7.96l-1.37-1.37c-.4-.4-.92-.59-1.43-.59-.52 0-1.04.2-1.43.59L10.3 9.45l-7.72 7.72c-.78.78-.78 2.05 0 2.83L4 21.41c.39.39.9.59 1.41.59.51 0 1.02-.2 1.41-.59l7.78-7.78 2.81-2.81c.8-.78.8-2.07 0-2.86zM5.41 20L4 18.59l7.72-7.72 1.47 1.35L5.41 20z\"/>\n",
              "  </svg>\n",
              "      </button>\n",
              "      \n",
              "  <style>\n",
              "    .colab-df-container {\n",
              "      display:flex;\n",
              "      flex-wrap:wrap;\n",
              "      gap: 12px;\n",
              "    }\n",
              "\n",
              "    .colab-df-convert {\n",
              "      background-color: #E8F0FE;\n",
              "      border: none;\n",
              "      border-radius: 50%;\n",
              "      cursor: pointer;\n",
              "      display: none;\n",
              "      fill: #1967D2;\n",
              "      height: 32px;\n",
              "      padding: 0 0 0 0;\n",
              "      width: 32px;\n",
              "    }\n",
              "\n",
              "    .colab-df-convert:hover {\n",
              "      background-color: #E2EBFA;\n",
              "      box-shadow: 0px 1px 2px rgba(60, 64, 67, 0.3), 0px 1px 3px 1px rgba(60, 64, 67, 0.15);\n",
              "      fill: #174EA6;\n",
              "    }\n",
              "\n",
              "    [theme=dark] .colab-df-convert {\n",
              "      background-color: #3B4455;\n",
              "      fill: #D2E3FC;\n",
              "    }\n",
              "\n",
              "    [theme=dark] .colab-df-convert:hover {\n",
              "      background-color: #434B5C;\n",
              "      box-shadow: 0px 1px 3px 1px rgba(0, 0, 0, 0.15);\n",
              "      filter: drop-shadow(0px 1px 2px rgba(0, 0, 0, 0.3));\n",
              "      fill: #FFFFFF;\n",
              "    }\n",
              "  </style>\n",
              "\n",
              "      <script>\n",
              "        const buttonEl =\n",
              "          document.querySelector('#df-15948705-e5ea-4a91-8371-12b765b7c3a3 button.colab-df-convert');\n",
              "        buttonEl.style.display =\n",
              "          google.colab.kernel.accessAllowed ? 'block' : 'none';\n",
              "\n",
              "        async function convertToInteractive(key) {\n",
              "          const element = document.querySelector('#df-15948705-e5ea-4a91-8371-12b765b7c3a3');\n",
              "          const dataTable =\n",
              "            await google.colab.kernel.invokeFunction('convertToInteractive',\n",
              "                                                     [key], {});\n",
              "          if (!dataTable) return;\n",
              "\n",
              "          const docLinkHtml = 'Like what you see? Visit the ' +\n",
              "            '<a target=\"_blank\" href=https://colab.research.google.com/notebooks/data_table.ipynb>data table notebook</a>'\n",
              "            + ' to learn more about interactive tables.';\n",
              "          element.innerHTML = '';\n",
              "          dataTable['output_type'] = 'display_data';\n",
              "          await google.colab.output.renderOutput(dataTable, element);\n",
              "          const docLink = document.createElement('div');\n",
              "          docLink.innerHTML = docLinkHtml;\n",
              "          element.appendChild(docLink);\n",
              "        }\n",
              "      </script>\n",
              "    </div>\n",
              "  </div>\n",
              "  "
            ]
          },
          "metadata": {},
          "execution_count": 34
        }
      ]
    },
    {
      "cell_type": "code",
      "source": [
        "from pyspark.ml.feature import PCA\n",
        "predictions.show()"
      ],
      "metadata": {
        "colab": {
          "base_uri": "https://localhost:8080/"
        },
        "id": "GHNuKbsRfl4Z",
        "outputId": "42c1b0cc-f950-4760-faf8-96370914df89"
      },
      "execution_count": null,
      "outputs": [
        {
          "output_type": "stream",
          "name": "stdout",
          "text": [
            "+-------------------+----------+-------+------+-------+------+---------+----------+---------+-----+--------------------+----------+\n",
            "|            country|child_mort|exports|health|imports|income|inflation|life_expec|total_fer| gdpp|            features|prediction|\n",
            "+-------------------+----------+-------+------+-------+------+---------+----------+---------+-----+--------------------+----------+\n",
            "|        Afghanistan|      90.2|   10.0|  7.58|   44.9|  1610|     9.44|      56.2|     5.82|  553|[90.2,10.0,7.58,4...|         0|\n",
            "|            Albania|      16.6|   28.0|  6.55|   48.6|  9930|     4.49|      76.3|     1.65| 4090|[16.6,28.0,6.55,4...|         0|\n",
            "|            Algeria|      27.3|   38.4|  4.17|   31.4| 12900|     16.1|      76.5|     2.89| 4460|[27.3,38.4,4.17,3...|         0|\n",
            "|             Angola|     119.0|   62.3|  2.85|   42.9|  5900|     22.4|      60.1|     6.16| 3530|[119.0,62.3,2.85,...|         1|\n",
            "|Antigua and Barbuda|      10.3|   45.5|  6.03|   58.9| 19100|     1.44|      76.8|     2.13|12200|[10.3,45.5,6.03,5...|         1|\n",
            "|          Argentina|      14.5|   18.9|   8.1|   16.0| 18700|     20.9|      75.8|     2.37|10300|[14.5,18.9,8.1,16...|         1|\n",
            "|            Armenia|      18.1|   20.8|   4.4|   45.3|  6700|     7.77|      73.3|     1.69| 3220|[18.1,20.8,4.4,45...|         0|\n",
            "|          Australia|       4.8|   19.8|  8.73|   20.9| 41400|     1.16|      82.0|     1.93|51900|[4.8,19.8,8.73,20...|         2|\n",
            "|            Austria|       4.3|   51.3|  11.0|   47.8| 43200|    0.873|      80.5|     1.44|46900|[4.3,51.3,11.0,47...|         2|\n",
            "|         Azerbaijan|      39.2|   54.3|  5.88|   20.7| 16000|     13.8|      69.1|     1.92| 5840|[39.2,54.3,5.88,2...|         0|\n",
            "|            Bahamas|      13.8|   35.0|  7.89|   43.7| 22900|   -0.393|      73.8|     1.86|28000|[13.8,35.0,7.89,4...|         2|\n",
            "|            Bahrain|       8.6|   69.5|  4.97|   50.9| 41100|     7.44|      76.0|     2.16|20700|[8.6,69.5,4.97,50...|         1|\n",
            "|         Bangladesh|      49.4|   16.0|  3.52|   21.8|  2440|     7.14|      70.4|     2.33|  758|[49.4,16.0,3.52,2...|         0|\n",
            "|           Barbados|      14.2|   39.5|  7.97|   48.7| 15300|    0.321|      76.7|     1.78|16000|[14.2,39.5,7.97,4...|         2|\n",
            "|            Belarus|       5.5|   51.4|  5.61|   64.5| 16200|     15.1|      70.4|     1.49| 6030|[5.5,51.4,5.61,64...|         0|\n",
            "|            Belgium|       4.5|   76.4|  10.7|   74.7| 41100|     1.88|      80.0|     1.86|44400|[4.5,76.4,10.7,74...|         2|\n",
            "|             Belize|      18.8|   58.2|   5.2|   57.5|  7880|     1.14|      71.4|     2.71| 4340|[18.8,58.2,5.2,57...|         1|\n",
            "|              Benin|     111.0|   23.8|   4.1|   37.2|  1820|    0.885|      61.8|     5.36|  758|[111.0,23.8,4.1,3...|         0|\n",
            "|             Bhutan|      42.7|   42.5|   5.2|   70.7|  6420|     5.99|      72.1|     2.38| 2180|[42.7,42.5,5.2,70...|         0|\n",
            "|            Bolivia|      46.6|   41.2|  4.84|   34.3|  5410|     8.78|      71.6|      3.2| 1980|[46.6,41.2,4.84,3...|         0|\n",
            "+-------------------+----------+-------+------+-------+------+---------+----------+---------+-----+--------------------+----------+\n",
            "only showing top 20 rows\n",
            "\n"
          ]
        }
      ]
    },
    {
      "cell_type": "code",
      "source": [
        "pca = PCA(k=3,inputCol='features',outputCol='pcaFeatures')\n",
        "pcaModel = pca.fit(predictions)"
      ],
      "metadata": {
        "id": "GH-Cz_b-f2l4"
      },
      "execution_count": null,
      "outputs": []
    },
    {
      "cell_type": "code",
      "source": [
        "results = pcaModel.transform(predictions).select('pcaFeatures')\n",
        "results.show()"
      ],
      "metadata": {
        "id": "MJGeDcxOf5sv"
      },
      "execution_count": null,
      "outputs": []
    },
    {
      "cell_type": "code",
      "source": [
        "pandasResults = results.toPandas()\n",
        "pandasResults.head()"
      ],
      "metadata": {
        "colab": {
          "base_uri": "https://localhost:8080/",
          "height": 206
        },
        "id": "8orPRuK_f-Cb",
        "outputId": "7314b30c-7432-4a00-d2e0-19e943c73654"
      },
      "execution_count": null,
      "outputs": [
        {
          "output_type": "execute_result",
          "data": {
            "text/plain": [
              "                                         pcaFeatures\n",
              "0  [1549.8693666935467, -703.9882142155617, 64.39...\n",
              "1  [10026.058392626992, -3848.5819622899894, -2.2...\n",
              "2  [12438.644795310163, -5619.797036318984, 14.05...\n",
              "3  [6712.531447922697, -1487.3176650831945, 85.52...\n",
              "4  [22261.139416490274, -4253.591086079125, -3.16..."
            ],
            "text/html": [
              "\n",
              "  <div id=\"df-091509a6-2add-4c37-abff-81c476a485f7\">\n",
              "    <div class=\"colab-df-container\">\n",
              "      <div>\n",
              "<style scoped>\n",
              "    .dataframe tbody tr th:only-of-type {\n",
              "        vertical-align: middle;\n",
              "    }\n",
              "\n",
              "    .dataframe tbody tr th {\n",
              "        vertical-align: top;\n",
              "    }\n",
              "\n",
              "    .dataframe thead th {\n",
              "        text-align: right;\n",
              "    }\n",
              "</style>\n",
              "<table border=\"1\" class=\"dataframe\">\n",
              "  <thead>\n",
              "    <tr style=\"text-align: right;\">\n",
              "      <th></th>\n",
              "      <th>pcaFeatures</th>\n",
              "    </tr>\n",
              "  </thead>\n",
              "  <tbody>\n",
              "    <tr>\n",
              "      <th>0</th>\n",
              "      <td>[1549.8693666935467, -703.9882142155617, 64.39...</td>\n",
              "    </tr>\n",
              "    <tr>\n",
              "      <th>1</th>\n",
              "      <td>[10026.058392626992, -3848.5819622899894, -2.2...</td>\n",
              "    </tr>\n",
              "    <tr>\n",
              "      <th>2</th>\n",
              "      <td>[12438.644795310163, -5619.797036318984, 14.05...</td>\n",
              "    </tr>\n",
              "    <tr>\n",
              "      <th>3</th>\n",
              "      <td>[6712.531447922697, -1487.3176650831945, 85.52...</td>\n",
              "    </tr>\n",
              "    <tr>\n",
              "      <th>4</th>\n",
              "      <td>[22261.139416490274, -4253.591086079125, -3.16...</td>\n",
              "    </tr>\n",
              "  </tbody>\n",
              "</table>\n",
              "</div>\n",
              "      <button class=\"colab-df-convert\" onclick=\"convertToInteractive('df-091509a6-2add-4c37-abff-81c476a485f7')\"\n",
              "              title=\"Convert this dataframe to an interactive table.\"\n",
              "              style=\"display:none;\">\n",
              "        \n",
              "  <svg xmlns=\"http://www.w3.org/2000/svg\" height=\"24px\"viewBox=\"0 0 24 24\"\n",
              "       width=\"24px\">\n",
              "    <path d=\"M0 0h24v24H0V0z\" fill=\"none\"/>\n",
              "    <path d=\"M18.56 5.44l.94 2.06.94-2.06 2.06-.94-2.06-.94-.94-2.06-.94 2.06-2.06.94zm-11 1L8.5 8.5l.94-2.06 2.06-.94-2.06-.94L8.5 2.5l-.94 2.06-2.06.94zm10 10l.94 2.06.94-2.06 2.06-.94-2.06-.94-.94-2.06-.94 2.06-2.06.94z\"/><path d=\"M17.41 7.96l-1.37-1.37c-.4-.4-.92-.59-1.43-.59-.52 0-1.04.2-1.43.59L10.3 9.45l-7.72 7.72c-.78.78-.78 2.05 0 2.83L4 21.41c.39.39.9.59 1.41.59.51 0 1.02-.2 1.41-.59l7.78-7.78 2.81-2.81c.8-.78.8-2.07 0-2.86zM5.41 20L4 18.59l7.72-7.72 1.47 1.35L5.41 20z\"/>\n",
              "  </svg>\n",
              "      </button>\n",
              "      \n",
              "  <style>\n",
              "    .colab-df-container {\n",
              "      display:flex;\n",
              "      flex-wrap:wrap;\n",
              "      gap: 12px;\n",
              "    }\n",
              "\n",
              "    .colab-df-convert {\n",
              "      background-color: #E8F0FE;\n",
              "      border: none;\n",
              "      border-radius: 50%;\n",
              "      cursor: pointer;\n",
              "      display: none;\n",
              "      fill: #1967D2;\n",
              "      height: 32px;\n",
              "      padding: 0 0 0 0;\n",
              "      width: 32px;\n",
              "    }\n",
              "\n",
              "    .colab-df-convert:hover {\n",
              "      background-color: #E2EBFA;\n",
              "      box-shadow: 0px 1px 2px rgba(60, 64, 67, 0.3), 0px 1px 3px 1px rgba(60, 64, 67, 0.15);\n",
              "      fill: #174EA6;\n",
              "    }\n",
              "\n",
              "    [theme=dark] .colab-df-convert {\n",
              "      background-color: #3B4455;\n",
              "      fill: #D2E3FC;\n",
              "    }\n",
              "\n",
              "    [theme=dark] .colab-df-convert:hover {\n",
              "      background-color: #434B5C;\n",
              "      box-shadow: 0px 1px 3px 1px rgba(0, 0, 0, 0.15);\n",
              "      filter: drop-shadow(0px 1px 2px rgba(0, 0, 0, 0.3));\n",
              "      fill: #FFFFFF;\n",
              "    }\n",
              "  </style>\n",
              "\n",
              "      <script>\n",
              "        const buttonEl =\n",
              "          document.querySelector('#df-091509a6-2add-4c37-abff-81c476a485f7 button.colab-df-convert');\n",
              "        buttonEl.style.display =\n",
              "          google.colab.kernel.accessAllowed ? 'block' : 'none';\n",
              "\n",
              "        async function convertToInteractive(key) {\n",
              "          const element = document.querySelector('#df-091509a6-2add-4c37-abff-81c476a485f7');\n",
              "          const dataTable =\n",
              "            await google.colab.kernel.invokeFunction('convertToInteractive',\n",
              "                                                     [key], {});\n",
              "          if (!dataTable) return;\n",
              "\n",
              "          const docLinkHtml = 'Like what you see? Visit the ' +\n",
              "            '<a target=\"_blank\" href=https://colab.research.google.com/notebooks/data_table.ipynb>data table notebook</a>'\n",
              "            + ' to learn more about interactive tables.';\n",
              "          element.innerHTML = '';\n",
              "          dataTable['output_type'] = 'display_data';\n",
              "          await google.colab.output.renderOutput(dataTable, element);\n",
              "          const docLink = document.createElement('div');\n",
              "          docLink.innerHTML = docLinkHtml;\n",
              "          element.appendChild(docLink);\n",
              "        }\n",
              "      </script>\n",
              "    </div>\n",
              "  </div>\n",
              "  "
            ]
          },
          "metadata": {},
          "execution_count": 40
        }
      ]
    },
    {
      "cell_type": "code",
      "source": [
        "PC1 = []\n",
        "PC2 = []\n",
        "PC3 = []\n",
        "for vec in pandasResults.values:\n",
        "    PC1.extend([vec[0][0]])\n",
        "    PC2.extend([vec[0][1]])\n",
        "    PC3.extend([vec[0][2]])"
      ],
      "metadata": {
        "id": "L0VqRvX5gAn7"
      },
      "execution_count": null,
      "outputs": []
    },
    {
      "cell_type": "code",
      "source": [
        "import matplotlib.pyplot as plt\n",
        "\n",
        "plt.scatter(PC1, PC2, PC3)\n",
        "plt.show()"
      ],
      "metadata": {
        "colab": {
          "base_uri": "https://localhost:8080/",
          "height": 430
        },
        "id": "DhTzAkzWgHIC",
        "outputId": "b51ed11e-da62-4624-c52d-d785fffd328e"
      },
      "execution_count": null,
      "outputs": [
        {
          "output_type": "display_data",
          "data": {
            "text/plain": [
              "<Figure size 640x480 with 1 Axes>"
            ],
            "image/png": "[encoded data removed]"
          },
          "metadata": {}
        }
      ]
    }
  ]
}